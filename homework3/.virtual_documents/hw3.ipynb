





# reminder: if a "#" is in front of a line of code, your computer will NOT read it
# have python print the following message by running this cell:
print("Python is awesome!")





age = 20 # this is a variable (specifically an integer)
print("The age is:", age)





year = 2024
print("The current year is:", year)
print(type(year))





temperature = 98.6
print(temperature)
print(type(temperature))





name = "Damian"
print(type(name))





weekend = True
print(type(weekend))





favorite_colors = ["green", "sea blue", "dark purple"]
print(type(favorite_colors))





answer = 2 + 2 * 5
print(answer)


num1 = 4
num2 = 6
print(num1 + num2)





radius = 5
pi = 3.14159265358979323
print(radius * radius * pi)





print("Something is wrong")



