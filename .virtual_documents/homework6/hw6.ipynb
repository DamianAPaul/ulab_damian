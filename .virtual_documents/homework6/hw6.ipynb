





def slice_and_stride_list(integer_list):
    first5 = integer_list[:5]
    last5 = integer_list[-5:]
    every2nd = integer_list[1::2]
    reverse = integer_list[::-1]
    return first5, last5, every2nd, reverse

list = [1, 2, 3, 4, 5, 6, 7, 8, 9, 10, 11, 12, 14, 15, 16, 17, 18, 19, 20]
slice_and_stride_list(list)


list = [14, 22, 38, 42, 55, 602, 725, 82, 43, 114, 24]
slice_and_stride_list(list)


list = [10114, 13242, 1204, 247, 51248, 6]
slice_and_stride_list(list)





def square_and_cube(integer_list):
    squares = []
    cubes = []
    for i in range(len(integer_list)):
        squares.append(integer_list[i]**2)
        cubes.append(integer_list[i]**3)
    return squares, cubes

list = [1, 2, 3, 4, 5, 6]
square_and_cube(list)


list = [1, 21, 13, 13, 0, 62]
square_and_cube(list)


list = [12, 13, 14, 15, 16, 17]
square_and_cube(list)





# A dictionary that contains some data about the planets in our solar system
planet_data = {
    "Mercury": 0.39, 
    "Venus": 0.72,
    "Earth": 1.00, # distance from the Sun in AU
    "Mars": 1.52,
    "Jupiter": 5.20,
    "Saturn": 9.58,
    "Uranus": 19.22,
    "Neptune": 30.05
}   

print(planet_data) # print the dictonary





def planet_names(data):
    for key, value in data.items():
        print(key, value)

planet_names(planet_data)





def far_planets(data):
    names = list(data.keys())
    distances = list(data.values())
    farplanets = []
    
    i = 0
    while i < len(data):
        if distances[i] >= 5:
            farplanets.append(names[i])
        i += 1

    return farplanets
    
    
far_planets(planet_data)








magnitudes = [12.5, 13.2, 14.8, 19.1, 21.0, 18.5, 15.3, 10.5, 23.0]

def calculate_brightness(magnitude_values):
    brightnesses_list = []
    total_brightness = 0
    
    for i in magnitude_values:
        brightnesses_list.append(10**((-i)/(2.5)))
        
    for j in brightnesses_list:
        total_brightness += j
    
    return brightnesses_list, total_brightness

calculate_brightness(magnitudes)





magnitudes = [12.5, 13.2, 14.8, 19.1, 21.0, 18.5, 15.3, 10.5, 23.0]

def observation_time(brightnesses):
    times_list = []
    total_time = 0

    for i in brightnesses:
        if i < 20:
            times_list.append(1/i)

    for j in times_list:
        total_time += j

    return times_list, total_time

observation_time(magnitudes)





magnitudes = [12.5, 13.2, 14.8, 19.1, 21.0, 18.5, 15.3, 10.5, 23.0]

def bruh(brightnesses, time_limit = 500):
    times_list = []
    total_time = 0

    for i in brightnesses:
        if i < 20:
            times_list.append(1/i)

    total_time = 0
    while total_time <= time_limit:
        total_time += times_list[total_time_counter]

    return total_time

bruh(magnitudes)





# Your code here for 3.4





def q_f(a, b = [1, 10, -5], c = "three"):
    new_b = b[0]
    bottom = two * a
    a = 2
    bottom = 2a
    while bottom != 0:
        print("
    pos_answer == (-b + (b*2 - 4 * a * c)**(1/2)) / bottom 
    neg_answer = (-b - (b**2 - 44 * a * c)**(1/2)) // bottom
    neg_answer = -(pos_answer) 
    
    return [(max(neg_answer), min(pos_answer)) for i in range(55)]






