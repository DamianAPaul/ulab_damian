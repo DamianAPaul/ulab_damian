{
 "cells": [
  {
   "cell_type": "markdown",
   "id": "21a1f0d2-d75c-4443-b816-1d1db3760454",
   "metadata": {},
   "source": [
    "# HW 6 - Iterables\n",
    "ULAB - Physics and Astronomy Division \\\n",
    "Due **Wednesday, October 30th, 2024 at 11:59pm** on Gradescope\n",
    "\n",
    "### REMINDER: Once you are done with this homework, make sure to include a screenshot of you pushing this notebook inside of your homework6 branch. Make sure to include this screenshot in your branch before submitting to Gradescope!\n",
    "\n",
    "### If there is no screenshot, then you will recieve a zero! \n",
    "\n",
    "General Tip (so you don't get silly points taken off):\n",
    "- Make sure **each function** follows good coding practices (i.e. a comment, detailed names, different steps on each line, etc)."
   ]
  },
  {
   "cell_type": "markdown",
   "id": "8dc7e46b-1e8e-486c-a2e9-d615c687028b",
   "metadata": {},
   "source": [
    "# 1 Lists\n",
    "\n",
    "## 1.1 List Slicing and Striding\n",
    "Write a **function** that takes in a list of integers and returns:\n",
    "\n",
    "- the first 5 elements\n",
    "- the last 5 elements\n",
    "- every 2nd element in the list\n",
    "- the list in reverse order.\n",
    "\n",
    "Use the test case below, along with two other ones (that you make-up):\n",
    "\n",
    "```\n",
    "list = [1, 2, 3, 4, 5, 6, 7, 8, 9, 10, 11, 12, 14, 15, 16, 17, 18, 19, 20]\n",
    "```"
   ]
  },
  {
   "cell_type": "code",
   "execution_count": 38,
   "id": "08dabd73-3dbc-4aab-843a-d4b81102835d",
   "metadata": {},
   "outputs": [
    {
     "data": {
      "text/plain": [
       "([1, 2, 3, 4, 5],\n",
       " [16, 17, 18, 19, 20],\n",
       " [1, 3, 5, 7, 9, 11, 14, 16, 18, 20],\n",
       " [20, 19, 18, 17, 16, 15, 14, 12, 11, 10, 9, 8, 7, 6, 5, 4, 3, 2, 1])"
      ]
     },
     "execution_count": 38,
     "metadata": {},
     "output_type": "execute_result"
    }
   ],
   "source": [
    "def slice_and_stride_list(integer_list):\n",
    "    first5 = integer_list[:5] # slices to first 5 elements\n",
    "    last5 = integer_list[-5:] # slices to last 5 elements\n",
    "    every2nd = integer_list[::2] # strides over every 2 elements\n",
    "    reverse = integer_list[::-1] # readds elements in reverse order\n",
    "    \n",
    "    return first5, last5, every2nd, reverse\n",
    "\n",
    "givenlist = [1, 2, 3, 4, 5, 6, 7, 8, 9, 10, 11, 12, 14, 15, 16, 17, 18, 19, 20]\n",
    "slice_and_stride_list(givenlist)"
   ]
  },
  {
   "cell_type": "code",
   "execution_count": 39,
   "id": "bd3b67e8-8e3d-4862-a753-21eb2adb0beb",
   "metadata": {},
   "outputs": [
    {
     "data": {
      "text/plain": [
       "([14, 22, 38, 42, 55],\n",
       " [725, 82, 43, 114, 24],\n",
       " [14, 38, 55, 725, 43, 24],\n",
       " [24, 114, 43, 82, 725, 602, 55, 42, 38, 22, 14])"
      ]
     },
     "execution_count": 39,
     "metadata": {},
     "output_type": "execute_result"
    }
   ],
   "source": [
    "givenlist = [14, 22, 38, 42, 55, 602, 725, 82, 43, 114, 24]\n",
    "slice_and_stride_list(givenlist)"
   ]
  },
  {
   "cell_type": "code",
   "execution_count": 40,
   "id": "87a8804d-a6fa-47db-b3de-01d5b1a95cf0",
   "metadata": {},
   "outputs": [
    {
     "data": {
      "text/plain": [
       "([10114, 13242, 1204, 247, 51248],\n",
       " [13242, 1204, 247, 51248, 6],\n",
       " [10114, 1204, 51248],\n",
       " [6, 51248, 247, 1204, 13242, 10114])"
      ]
     },
     "execution_count": 40,
     "metadata": {},
     "output_type": "execute_result"
    }
   ],
   "source": [
    "givenlist = [10114, 13242, 1204, 247, 51248, 6]\n",
    "slice_and_stride_list(givenlist)"
   ]
  },
  {
   "cell_type": "markdown",
   "id": "92c77920-20fc-455e-bf52-10b5a518ed2d",
   "metadata": {},
   "source": [
    "## 1.2 Iterating Over Lists with For Loops\n",
    "Write a **function** that takes in a list, with a **for** loop to return: \n",
    "- the square of each number in the list\n",
    "- the cube of each even number in the list\n",
    "\n",
    "Use the test case below, along with two other ones (that you make-up):\n",
    "\n",
    "```\n",
    "list = [1, 2, 3, 4, 5, 6]\n",
    "```"
   ]
  },
  {
   "cell_type": "code",
   "execution_count": 41,
   "id": "5054c807-a247-4159-9ce1-43020bcc3000",
   "metadata": {},
   "outputs": [
    {
     "data": {
      "text/plain": [
       "([1, 4, 9, 16, 25, 36], [1, 8, 27, 64, 125, 216])"
      ]
     },
     "execution_count": 41,
     "metadata": {},
     "output_type": "execute_result"
    }
   ],
   "source": [
    "def square_and_cube(integer_list):\n",
    "    squares = [] # intializes square/cube lists\n",
    "    cubes = []\n",
    "    for i in range(len(integer_list)):\n",
    "        squares.append(integer_list[i]**2) # add squared/cubed values to empty lists\n",
    "        cubes.append(integer_list[i]**3)\n",
    "    return squares, cubes\n",
    "\n",
    "givenlist = [1, 2, 3, 4, 5, 6]\n",
    "square_and_cube(givenlist)"
   ]
  },
  {
   "cell_type": "code",
   "execution_count": 42,
   "id": "517727cf-95ab-4b29-a69a-c635b9749dcf",
   "metadata": {},
   "outputs": [
    {
     "data": {
      "text/plain": [
       "([1, 441, 169, 169, 0, 3844], [1, 9261, 2197, 2197, 0, 238328])"
      ]
     },
     "execution_count": 42,
     "metadata": {},
     "output_type": "execute_result"
    }
   ],
   "source": [
    "givenlist = [1, 21, 13, 13, 0, 62]\n",
    "square_and_cube(givenlist)"
   ]
  },
  {
   "cell_type": "code",
   "execution_count": 43,
   "id": "9c9d5ef8-9861-4baf-82db-f8e614681193",
   "metadata": {},
   "outputs": [
    {
     "data": {
      "text/plain": [
       "([144, 169, 196, 225, 256, 289], [1728, 2197, 2744, 3375, 4096, 4913])"
      ]
     },
     "execution_count": 43,
     "metadata": {},
     "output_type": "execute_result"
    }
   ],
   "source": [
    "givenlist = [12, 13, 14, 15, 16, 17]\n",
    "square_and_cube(givenlist)"
   ]
  },
  {
   "cell_type": "markdown",
   "id": "e2e075da-c004-400d-b796-5435e096816d",
   "metadata": {},
   "source": [
    "# 2 Dictionaries\n",
    "We have not fully covered **dictionaries** in class, but a **dictionary** is a collection of key-value pairs. Each key is unique and is associated with a specific value. Like a real dictionary! \n",
    "\n",
    "You can create a dictionary by placing key-value pairs inside of curly brackets `{}` with a `:` separating the key from the value. \n",
    "\n",
    "Run the cell below for an example:"
   ]
  },
  {
   "cell_type": "code",
   "execution_count": 2,
   "id": "dbdb0f41-4f57-4524-ab51-ff1fc502bdfc",
   "metadata": {},
   "outputs": [
    {
     "name": "stdout",
     "output_type": "stream",
     "text": [
      "{'Mercury': 0.39, 'Venus': 0.72, 'Earth': 1.0, 'Mars': 1.52, 'Jupiter': 5.2, 'Saturn': 9.58, 'Uranus': 19.22, 'Neptune': 30.05}\n"
     ]
    }
   ],
   "source": [
    "# A dictionary that contains some data about the planets in our solar system\n",
    "planet_data = {\n",
    "    \"Mercury\": 0.39, \n",
    "    \"Venus\": 0.72,\n",
    "    \"Earth\": 1.00, # distance from the Sun in AU\n",
    "    \"Mars\": 1.52,\n",
    "    \"Jupiter\": 5.20,\n",
    "    \"Saturn\": 9.58,\n",
    "    \"Uranus\": 19.22,\n",
    "    \"Neptune\": 30.05\n",
    "}   \n",
    "\n",
    "print(planet_data) # print the dictonary"
   ]
  },
  {
   "cell_type": "markdown",
   "id": "886c93f4-0027-4969-ba67-cc12eca04c9c",
   "metadata": {},
   "source": [
    "## 2.1 Looping through a dictionary\n",
    "Write a function that takes in the `planet_data` dictionary and uses a `for` loop to print the names of each of the planets and its distance from the sun."
   ]
  },
  {
   "cell_type": "code",
   "execution_count": 3,
   "id": "a3ab065a-42f5-4aa0-8e0f-38e87c583464",
   "metadata": {},
   "outputs": [
    {
     "name": "stdout",
     "output_type": "stream",
     "text": [
      "Mercury 0.39\n",
      "Venus 0.72\n",
      "Earth 1.0\n",
      "Mars 1.52\n",
      "Jupiter 5.2\n",
      "Saturn 9.58\n",
      "Uranus 19.22\n",
      "Neptune 30.05\n"
     ]
    }
   ],
   "source": [
    "def planet_names(data):\n",
    "    for key, value in data.items(): # loops through dictionary keys and values\n",
    "        print(key, value)\n",
    "\n",
    "planet_names(planet_data)"
   ]
  },
  {
   "cell_type": "markdown",
   "id": "2b38b6fb-ce68-4f20-a8a1-ba241e8db53e",
   "metadata": {},
   "source": [
    "## 2.2 Dictionaries and Conditionals\n",
    "Write a function that uses a while loop to print all the planets that are a minimum distance of 5 AU from the Sun. "
   ]
  },
  {
   "cell_type": "code",
   "execution_count": 4,
   "id": "6e07cf13-efba-4a75-ad75-0428dc31108d",
   "metadata": {},
   "outputs": [
    {
     "data": {
      "text/plain": [
       "['Jupiter', 'Saturn', 'Uranus', 'Neptune']"
      ]
     },
     "execution_count": 4,
     "metadata": {},
     "output_type": "execute_result"
    }
   ],
   "source": [
    "def far_planets(data):\n",
    "    names = list(data.keys()) # converts names/distances to lists\n",
    "    distances = list(data.values())\n",
    "    farplanets = [] # intializes final planets list\n",
    "    \n",
    "    i = 0\n",
    "    while i < len(data): # adds only names of planets with distances of at least 5\n",
    "        if distances[i] >= 5:\n",
    "            farplanets.append(names[i])\n",
    "        i += 1\n",
    "\n",
    "    return farplanets\n",
    "    \n",
    "    \n",
    "far_planets(planet_data)"
   ]
  },
  {
   "cell_type": "markdown",
   "id": "5e1ba0c0-5dd9-44e8-895c-73a36d614949",
   "metadata": {},
   "source": [
    "# 3 Observing Stars in a Cluster\n",
    "Your goal is to calculate the total brightness of a group of stars in a star cluster and estimate how long it would take for a telescope to observer each star, depending on their brightness (magnitude). Here is some background information:\n",
    "- The brightness of a star, from a telescope, is measured by its **apparent magnitude**, a LOWER magnitude means a brighter star. A HIGHER magnitude means a fainter star. So a 4th magnitude star is much brighter than a 17th magnitude star.\n",
    "- To convert magnitude into brightness, use the following formula\n",
    "$$\n",
    "\\text{Brightness} = 10^{-\\frac{\\text{magnitude}}{2.5}}\n",
    "$$\n",
    "\n",
    "Use this list of magnitudes and time limit:\n",
    "\n",
    "```\n",
    "magnitudes = [12.5, 13.2, 14.8, 19.1, 21.0, 18.5, 15.3, 10.5, 23.0]\n",
    "time_limit = 500\n",
    "```\n",
    "\n",
    "Expected outcome (your solutions with be the answers to the ???):\n",
    "- Total brightness of the stars: ???\n",
    "- Total observation time for all observable stars: ???\n",
    "- Number of stars that can be observed within 500 seconds: ???"
   ]
  },
  {
   "cell_type": "markdown",
   "id": "336785a7-71bf-434d-982c-dd72dd29cf71",
   "metadata": {},
   "source": [
    "## 3.1 Calculate Brightness\n",
    "1) Write a **function** which inputs a list of star magnitudes (brightnesses).\n",
    "2) Inside your function, use a `for` loop to calculate (with the given formula) the brightness of each star.\n",
    "3) Inside your function, use a `for` loop to sum up the total brightness of all the stars.\n",
    "5) Have your function return the **total brightness** of all the stars and a **list of the brightnesses** of the stars.\n",
    "6) Test out your function with the **given** magnitude values."
   ]
  },
  {
   "cell_type": "code",
   "execution_count": 5,
   "id": "ccc331f4-c029-4a82-810b-4a78d0fa1a2a",
   "metadata": {},
   "outputs": [
    {
     "data": {
      "text/plain": [
       "([1e-05,\n",
       "  5.248074602497734e-06,\n",
       "  1.2022644346174132e-06,\n",
       "  2.29086765276777e-08,\n",
       "  3.981071705534969e-09,\n",
       "  3.981071705534969e-08,\n",
       "  7.585775750291836e-07,\n",
       "  6.309573444801929e-05,\n",
       "  6.309573444801942e-10],\n",
       " 8.037198248279666e-05)"
      ]
     },
     "execution_count": 5,
     "metadata": {},
     "output_type": "execute_result"
    }
   ],
   "source": [
    "magnitudes = [12.5, 13.2, 14.8, 19.1, 21.0, 18.5, 15.3, 10.5, 23.0]\n",
    "\n",
    "def calculate_brightness(magnitude_values):\n",
    "    brightnesses_list = [] # initializes final variables\n",
    "    total_brightness = 0\n",
    "    \n",
    "    for i in magnitude_values: # creates final list of stars' brightnesses\n",
    "        brightnesses_list.append(10**((-i)/(2.5)))\n",
    "        \n",
    "    for j in brightnesses_list: # adds elements of the previous list together\n",
    "        total_brightness += j\n",
    "    \n",
    "    return brightnesses_list, total_brightness\n",
    "\n",
    "calculate_brightness(magnitudes)"
   ]
  },
  {
   "cell_type": "markdown",
   "id": "9aff0e1c-9f88-4ebb-a05b-d39363d9e88e",
   "metadata": {},
   "source": [
    "## 3.2 Observation Time\n",
    "1) Write a **function** which inputs a list of star magnitudes (brightnesses).\n",
    "2) Inside your function, use a `for` loop to calculate the time to observe each star.\n",
    "- You can just assume each star's observation time is inversely proportional to its brightness with the following formula:\n",
    "\n",
    "$$\n",
    "\\text{Observation Time (in seconds)} \\propto \\frac{1}{\\text{Brightness}} \n",
    "$$\n",
    "\n",
    "3) Inside you function, write a `condition` that ignores stars that have a magnitude greater than 20 (very very faint stars).\n",
    "4) Have your function return the **total observation time** (ignoring >20 magnitudes) and a **list of the times** it would take to observe each individual star.\n",
    "5) Test out your function with the **given** magnitude values."
   ]
  },
  {
   "cell_type": "code",
   "execution_count": 6,
   "id": "044d17cf-82a8-44b6-8958-447632f713f6",
   "metadata": {},
   "outputs": [
    {
     "data": {
      "text/plain": [
       "([0.08,\n",
       "  0.07575757575757576,\n",
       "  0.06756756756756756,\n",
       "  0.05235602094240837,\n",
       "  0.05405405405405406,\n",
       "  0.06535947712418301,\n",
       "  0.09523809523809523],\n",
       " 0.49033279068388397)"
      ]
     },
     "execution_count": 6,
     "metadata": {},
     "output_type": "execute_result"
    }
   ],
   "source": [
    "magnitudes = [12.5, 13.2, 14.8, 19.1, 21.0, 18.5, 15.3, 10.5, 23.0]\n",
    "\n",
    "def observation_time(brightnesses):\n",
    "    times_list = [] # intializes final variables\n",
    "    total_time = 0\n",
    "\n",
    "    for i in brightnesses: # creates list of times from brightness values\n",
    "        if i < 20:\n",
    "            times_list.append(1/i)\n",
    "\n",
    "    for j in times_list: # adds elements of the previous list together\n",
    "        total_time += j\n",
    "\n",
    "    return times_list, total_time\n",
    "\n",
    "observation_time(magnitudes)"
   ]
  },
  {
   "cell_type": "markdown",
   "id": "102d3c15-0b4f-48a7-8fdc-f896c1841aca",
   "metadata": {},
   "source": [
    "## 3.3 Time Until the Limit\n",
    "1) Write a **function** which inputs a list of star magnitudes (brightnesses) and time limit.\n",
    "   - Make your time limit a default argument.\n",
    "2) Inside your function, make a counter called `total time` and set it to 0.\n",
    "3) Inside your function, use a `while` loop to set the time limit of your observation.\n",
    "4) Inside your function, use assigment operators to update the `total time` observed. \n",
    "5) Inside your function, use a `condition` to skip stars with magnitude 20 or greater. \n",
    "6) Have your function return the **number of stars that can be observed** within the time limit and **how long the observation will take** (this should be less than the time limit).\n",
    "7) Test out your function with the **given** magnitude values and time limit."
   ]
  },
  {
   "cell_type": "code",
   "execution_count": 7,
   "id": "5a541a62-0903-41bd-91c9-ee21172069a3",
   "metadata": {},
   "outputs": [
    {
     "data": {
      "text/plain": [
       "(7, 103.89999999999999)"
      ]
     },
     "execution_count": 7,
     "metadata": {},
     "output_type": "execute_result"
    }
   ],
   "source": [
    "magnitudes = [12.5, 13.2, 14.8, 19.1, 21.0, 18.5, 15.3, 10.5, 23.0]\n",
    "\n",
    "def stars_and_time_observed(brightnesses, time_limit = 500):\n",
    "    total_time = 0 # initializes final variables\n",
    "    stars_observed = 0\n",
    "\n",
    "    i = 0 # goes through each planet until time limit reached\n",
    "    while total_time < time_limit and i < len(brightnesses):\n",
    "        brightness = brightnesses[i]\n",
    "\n",
    "        if brightness < 20 and total_time + brightness < time_limit: # skips stars with magnitude >=20\n",
    "            total_time += brightness\n",
    "            stars_observed += 1\n",
    "\n",
    "        i += 1\n",
    "\n",
    "    return stars_observed, total_time\n",
    "\n",
    "stars_and_time_observed(magnitudes)"
   ]
  },
  {
   "cell_type": "markdown",
   "id": "d2ab246f-9570-483e-b35b-cf1056f20936",
   "metadata": {},
   "source": [
    "## 3.4 Call Upon Your Functions\n",
    "You do not need to rewrite your functions once you have written them! That's what is so awesome about **functions**! \n",
    "\n",
    "1) With a new test case (different magnitudes and time limit) call your three functions you wrote above.\n",
    "2) Print out their return statements, example:\n",
    "\n",
    "```\n",
    ">>> my_return = my_function(my_argument):\n",
    ">>> print(my_return)\n",
    "```"
   ]
  },
  {
   "cell_type": "code",
   "execution_count": 8,
   "id": "4c4c9389-04f5-49bc-823c-a12d6c003b60",
   "metadata": {},
   "outputs": [
    {
     "name": "stdout",
     "output_type": "stream",
     "text": [
      "([3.6307805477010174e-05, 6.9183097091893625e-06, 6.309573444801943e-09, 1.7378008287493763e-06, 8.317637711026709e-05, 9.120108393559096e-07, 1.584893192461111e-09, 2.0892961308540409e-07, 4.78630092322638e-07], 0.0001297477581366172)\n",
      "([0.0900900900900901, 0.07751937984496124, 0.06944444444444445, 0.09803921568627452, 0.06622516556291391, 0.059880239520958084, 0.06329113924050632], 0.5244896743901486)\n",
      "(7, 96.19999999999999)\n"
     ]
    }
   ],
   "source": [
    "magnitudes = [11.1, 12.9, 20.5, 14.4, 10.2, 15.1, 22.0, 16.7, 15.8]\n",
    "time_limit = 450\n",
    "\n",
    "brightness_values = calculate_brightness(magnitudes)\n",
    "print(brightness_values)\n",
    "\n",
    "observation_time_values = observation_time(magnitudes)\n",
    "print(observation_time_values)\n",
    "\n",
    "stars_and_times = stars_and_time_observed(magnitudes, time_limit)\n",
    "print(stars_and_times)"
   ]
  },
  {
   "cell_type": "markdown",
   "id": "daba92d4-a646-4efc-824d-85b52ea3c573",
   "metadata": {},
   "source": [
    "# 4 Debug the Quadratic Function!\n",
    "The code below does not follow proper coding hygiene (good coding sklls) and is riddled with bugs! Answer the following question and follow the steps below:\n",
    "1) When you run the cell, what is the first error you get? What does this mean? What are three other things wrong with this function?\n",
    "2) Fix the bugs! No importing packages.\n",
    "3) Rewrite the code, such that it follows \"good coding skills\".\n",
    "\n",
    "Try out the test case of `a = 2`, `b = -5` and `c = 3`. You should get `(1.5, 1.0)`. Try out your own test case as well."
   ]
  },
  {
   "cell_type": "code",
   "execution_count": 13,
   "id": "cd66dd28-f8d3-447c-8d20-ff3e31bfaa07",
   "metadata": {},
   "outputs": [
    {
     "data": {
      "text/plain": [
       "(1.5, 1.0)"
      ]
     },
     "execution_count": 13,
     "metadata": {},
     "output_type": "execute_result"
    }
   ],
   "source": [
    "def quadratic_function(a, b, c):\n",
    "    divisor = 2 * a\n",
    "    if divisor != 0:\n",
    "        pos_answer = (-b + (b**2 - 4 * a * c)**(1/2)) / divisor \n",
    "        neg_answer = (-b - (b**2 - 4 * a * c)**(1/2)) / divisor\n",
    "    \n",
    "    return pos_answer, neg_answer\n",
    "\n",
    "quadratic_function(2, -5, 3)"
   ]
  },
  {
   "cell_type": "code",
   "execution_count": 12,
   "id": "55d70a12-09a1-43de-b0d2-af9ed334adb9",
   "metadata": {},
   "outputs": [],
   "source": [
    "# First error: \"invalid decimal literal\", which means that you can't place a variable and a number right next to\n",
    "# each other to multiply them, you need the * symbol.\n",
    "# Three other errors: c shouldn't be defaulted as string, bottom should be \"a\" multiplied by an integer,\n",
    "# and the function should be given a clearer name."
   ]
  },
  {
   "cell_type": "markdown",
   "id": "8cf33b19-9bca-484e-8129-d8a4896a1bfa",
   "metadata": {},
   "source": [
    "# 5 Proper Submission\n",
    "To recieve full credit for this assignment make sure you do the following:\n",
    "1) Copy this jupter notebook from the `ulab_2024` repository into **YOUR** local `homework` branch.\n",
    "   \n",
    "3) Follow the tasks. Make sure to run all the cells so that all output is visible.\n",
    "   \n",
    "5) Push this notebook to your remote `homework6` branch. Refer to the lecture slides for more information.\n",
    "      \n",
    "6) **WARNING!! IF YOU DO NOT FOLLOW THIS STEP YOU WILL RECIEVE A ZERO!**\n",
    "   1) Take a screenshot of your command line when you `push` this notebook from your local `homework6` branch to your remote `homework6` branch. Make sure to prove that you are inside a branch besides `main` or `master` by calling `git branch` and make sure to prove that your `homework6` branch only contains the homework4 folder of Jupyter Notebook you copied over from `ulab_2024` (which can be done by calling `ls`). You could also call `git status` before/after as a way to prove you pushed the proper files to the correct branches.\n",
    "   2)  Include that screenshot in your remote branch when you upload your GitHub branch to Gradescope!"
   ]
  },
  {
   "cell_type": "code",
   "execution_count": null,
   "id": "b0926042-d1cf-4a2e-8fc8-d93395a6a7cf",
   "metadata": {},
   "outputs": [],
   "source": []
  }
 ],
 "metadata": {
  "kernelspec": {
   "display_name": "Python 3 (ipykernel)",
   "language": "python",
   "name": "python3"
  },
  "language_info": {
   "codemirror_mode": {
    "name": "ipython",
    "version": 3
   },
   "file_extension": ".py",
   "mimetype": "text/x-python",
   "name": "python",
   "nbconvert_exporter": "python",
   "pygments_lexer": "ipython3",
   "version": "3.12.4"
  }
 },
 "nbformat": 4,
 "nbformat_minor": 5
}
