





# 1: "SyntaxError: expected ':'" was my first error, which I got because I forgot to place a colon when initializing my function.
# 2: "NameError: name 'celsius_to_fahrenheit' is not defined" was my second error, which I got because I didn't call the function from 
# the same code block.
# 3: "TypeError: check_range() missing 3 required positional arguments: 'num', 'low', and 'high'" was my third error, which I got because I
# accidentally ran the function without inputting any values for the function to use.








def simple_math(num_1, num_2):
    # compute the sum
    sum = num_1 + num_2
    # compute the difference
    difference = num_1 - num_2
    # compute the product
    product = num_1 * num_2
    # compute the quotient
    quotient = num_1 / num_2
    # compute the quotient (with floor division)
    floor_quotient = num_1 // num_2
    # compute the remainder
    remainder = num_1 % num_2
    # compute the exponent
    exponent = num_1**num_2
    # return all the values as a tuple
    return (sum, difference, product, quotient, floor_quotient, remainder, exponent)

a = 10
b = 3
operations = simple_math(a,b)
print(operations)


a = 23
b = 4
operations = simple_math(a,b)
print(operations)


a = 13
b = 2
operations = simple_math(a,b)
print(operations)





# My thought process was to create the function where each result of an operation was stored in its own local variable, which was then
# used to easily return the values as a tuple. My function displays good function-writing processes because it is organized and annotated
# (using comments for each operation) and each variable has a specific, long and clear name that says exactly what it is.





def add_multiply(num):
    # increment by 5
    num += 5
    # multiply by 3
    num *= 3
    return num

x = 10
print(add_multiply(x))


x = 14
print(add_multiply(x))


x = 126
print(add_multiply(x))





# I decided to use the operator shortcuts like += and *= to shorten the code and make it cleaner. The assignment operators help with
# this, because otherwise the code would look less clean and more cluttery if a bunch of "num" variables are spread all around.





def check_range(num, low, high):
    if (num >= low and num <= high):
        return True
    else:
        return False

print(check_range(3, 2, 8))


print(check_range(7, 7, 9))


print(check_range(13, 23, 77))





# To shorten the code, I used the logical "and" operator inside the if statement, which cleaned it up a little. Then, I just returned True
# or False values, which is easy because python treats them as boolean values automatically, so I didn't need to convert anything from a
# string or anything.





def seven_word_sentence(a, b, c, d, e, f, g):
    sentence = a + " " + b + " " + c + " " + d + " " + e + " " + f + " " + g + "?"
    return sentence

a = "So"
b = "what's"
c = "the"
d = "weather"
e = "been"
f = "like"
g = "recently"
the_sentence = seven_word_sentence(a, b, c, d, e, f, g)
print(the_sentence)








def celsius_to_fahrenheit(celsius):
    fahrenheit = (9/5) * celsius + 32
    return fahrenheit

def celsius_to_kelvin(celsius):
    kelvin = celsius + 273.15
    return kelvin





def celsius_conversion(celsius):
    return (celsius_to_fahrenheit(celsius), celsius_to_kelvin(celsius))

celsius_conversion(29)
# No screaming snake case syntax necessary, as the two celsius variables are both local variables local to different functions.





def remainder_checker(num_1, num_2):
    remainder = num_1 % num_2
    if (remainder == 0):
        print("The quotient has no remainder!")
    else:
        print("The quotient has a remainder, which is: " + str(remainder))

remainder_checker(15, 5)


remainder_checker(29, 3)





# N/A
